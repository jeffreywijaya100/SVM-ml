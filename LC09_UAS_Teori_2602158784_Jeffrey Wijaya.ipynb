{
 "cells": [
  {
   "cell_type": "markdown",
   "metadata": {},
   "source": [
    "# 2a. "
   ]
  },
  {
   "cell_type": "markdown",
   "metadata": {},
   "source": [
    "A Support Vector Machine (SVM) is a supervised machine learning algorithm that can be used for both classification \n",
    "and regression tasks. SVM is particularly effective in high-dimensional spaces and is well-suited for problems \n",
    "where clear margins of separation exist between classes. \n",
    "SVM is a powerful, versatile, and popular machine learning model, capable of performing linear or nonlinear classification \n",
    "or regression even outliers detection. Suit for complex small or medium datasets. \n",
    "SVM is a family of classification rules that contain both parametric(e.g. linear) and nonparametric(e.g. Kernel based) methods. \n",
    "It can be viewed as a generalization of linear decision boundaries for classification. \n",
    "In particular, SVM produces nonlinear boundaries by constructing a linear boundary in a large, \n",
    "transformed version of the feature space.\n",
    "\n",
    "Support Vector Machine (SVM) differs from other machine learning models mainly in its approach to class separation. \n",
    "SVM works by finding the optimal hyperplane that maximizes the margin between different classes in the feature space. \n",
    "SVMs can also handle both classification and regression problems, and utilize kernel functions to handle non-linear data. \n",
    "The main advantage of SVM is its ability to handle high-dimensional datasets, as well as its high tolerance for outliers. \n",
    "The SVM approach makes it possible to make better decisions in cases where the decision boundaries are not very clear, \n",
    "and the model can perform well even with relatively small datasets."
   ]
  },
  {
   "cell_type": "markdown",
   "metadata": {},
   "source": [
    "# 2b."
   ]
  },
  {
   "cell_type": "code",
   "execution_count": 41,
   "metadata": {},
   "outputs": [
    {
     "data": {
      "text/html": [
       "<div>\n",
       "<style scoped>\n",
       "    .dataframe tbody tr th:only-of-type {\n",
       "        vertical-align: middle;\n",
       "    }\n",
       "\n",
       "    .dataframe tbody tr th {\n",
       "        vertical-align: top;\n",
       "    }\n",
       "\n",
       "    .dataframe thead th {\n",
       "        text-align: right;\n",
       "    }\n",
       "</style>\n",
       "<table border=\"1\" class=\"dataframe\">\n",
       "  <thead>\n",
       "    <tr style=\"text-align: right;\">\n",
       "      <th></th>\n",
       "      <th>X1</th>\n",
       "      <th>X2</th>\n",
       "      <th>Y</th>\n",
       "    </tr>\n",
       "  </thead>\n",
       "  <tbody>\n",
       "    <tr>\n",
       "      <th>0</th>\n",
       "      <td>0.000000</td>\n",
       "      <td>-10.000000</td>\n",
       "      <td>0</td>\n",
       "    </tr>\n",
       "    <tr>\n",
       "      <th>1</th>\n",
       "      <td>0.100503</td>\n",
       "      <td>-9.899497</td>\n",
       "      <td>0</td>\n",
       "    </tr>\n",
       "    <tr>\n",
       "      <th>2</th>\n",
       "      <td>0.201005</td>\n",
       "      <td>-9.798995</td>\n",
       "      <td>0</td>\n",
       "    </tr>\n",
       "    <tr>\n",
       "      <th>3</th>\n",
       "      <td>0.301508</td>\n",
       "      <td>-9.698492</td>\n",
       "      <td>0</td>\n",
       "    </tr>\n",
       "    <tr>\n",
       "      <th>4</th>\n",
       "      <td>0.402010</td>\n",
       "      <td>-9.597990</td>\n",
       "      <td>0</td>\n",
       "    </tr>\n",
       "  </tbody>\n",
       "</table>\n",
       "</div>"
      ],
      "text/plain": [
       "         X1         X2  Y\n",
       "0  0.000000 -10.000000  0\n",
       "1  0.100503  -9.899497  0\n",
       "2  0.201005  -9.798995  0\n",
       "3  0.301508  -9.698492  0\n",
       "4  0.402010  -9.597990  0"
      ]
     },
     "execution_count": 41,
     "metadata": {},
     "output_type": "execute_result"
    }
   ],
   "source": [
    "import numpy as np\n",
    "import matplotlib.pyplot as plt\n",
    "import pandas as pd\n",
    "\n",
    "def rhombus_equation(x, a) :\n",
    "    return a - abs(x)\n",
    "\n",
    "# Membuat Dataset\n",
    "x = np.linspace(-10.0, 10.0, 200)\n",
    "a_value1 = 10\n",
    "y = rhombus_equation(x, a_value1)\n",
    "y = np.hstack([y, -y])\n",
    "x = np.hstack([x, -x])\n",
    "\n",
    "x1 = np.linspace(-9.0, 9.0, 200)\n",
    "a_value2 = 50\n",
    "y1 = rhombus_equation(5*x1, a_value2)\n",
    "y1 = np.hstack([y1, -y1])\n",
    "x1 = np.hstack([x1, -x1])\n",
    "\n",
    "df1 = pd.DataFrame(np.vstack([y, x]).T, columns=['X1', 'X2'])\n",
    "df1['Y'] = 0\n",
    "df2 = pd.DataFrame(np.vstack([y1, x1]).T, columns=['X1', 'X2'])\n",
    "df2['Y'] = 1\n",
    "\n",
    "# Menggabungkan dataset dengan menggunakan pd.concat\n",
    "df = pd.concat([df1, df2], ignore_index=True)\n",
    "df.head()"
   ]
  },
  {
   "cell_type": "code",
   "execution_count": 42,
   "metadata": {},
   "outputs": [
    {
     "data": {
      "text/plain": [
       "<matplotlib.collections.PathCollection at 0x1fa7c10d580>"
      ]
     },
     "execution_count": 42,
     "metadata": {},
     "output_type": "execute_result"
    },
    {
     "data": {
      "image/png": "[encoded data removed]",
      "text/plain": [
       "<Figure size 640x480 with 1 Axes>"
      ]
     },
     "metadata": {},
     "output_type": "display_data"
    }
   ],
   "source": [
    "plt.scatter(y,x)\n",
    "plt.scatter(y1,x1)"
   ]
  },
  {
   "cell_type": "markdown",
   "metadata": {},
   "source": [
    "# 2c."
   ]
  },
  {
   "cell_type": "code",
   "execution_count": 44,
   "metadata": {},
   "outputs": [],
   "source": [
    "# Split dataset to training set dan test set\n",
    "\n",
    "from sklearn.model_selection import train_test_split\n",
    "X = df[['X1', 'X2']]\n",
    "y = df['Y']\n",
    "X_train, X_test, y_train, y_test = train_test_split(X, y, test_size=0.2)"
   ]
  },
  {
   "cell_type": "code",
   "execution_count": 51,
   "metadata": {},
   "outputs": [
    {
     "name": "stdout",
     "output_type": "stream",
     "text": [
      "\n",
      "Linear Classification Report 1\n",
      "\n",
      "              precision    recall  f1-score   support\n",
      "\n",
      "           0       0.43      1.00      0.60        69\n",
      "           1       0.00      0.00      0.00        91\n",
      "\n",
      "    accuracy                           0.43       160\n",
      "   macro avg       0.22      0.50      0.30       160\n",
      "weighted avg       0.19      0.43      0.26       160\n",
      "\n",
      "\n",
      "Linear Classification Report 2\n",
      "\n",
      "              precision    recall  f1-score   support\n",
      "\n",
      "           0       0.43      1.00      0.60        69\n",
      "           1       0.00      0.00      0.00        91\n",
      "\n",
      "    accuracy                           0.43       160\n",
      "   macro avg       0.22      0.50      0.30       160\n",
      "weighted avg       0.19      0.43      0.26       160\n",
      "\n"
     ]
    }
   ],
   "source": [
    "from sklearn.svm import SVC\n",
    "\n",
    "linear1 = SVC(kernel='linear', C=1.0)\n",
    "linear2 = SVC(kernel='linear', C=100.0)\n",
    "\n",
    "linear1.fit(X_train, y_train)\n",
    "linear2.fit(X_train, y_train)\n",
    "\n",
    "y_pred_1 = linear1.predict(X_test)\n",
    "y_pred_2 = linear2.predict(X_test)\n",
    "\n",
    "from sklearn.metrics import classification_report\n",
    "print('\\nLinear Classification Report 1\\n')\n",
    "print(classification_report(y_test, y_pred_1))\n",
    "\n",
    "print('\\nLinear Classification Report 2\\n')\n",
    "print(classification_report(y_test, y_pred_2))"
   ]
  },
  {
   "cell_type": "markdown",
   "metadata": {},
   "source": [
    "# 2d."
   ]
  },
  {
   "cell_type": "code",
   "execution_count": 52,
   "metadata": {},
   "outputs": [
    {
     "name": "stdout",
     "output_type": "stream",
     "text": [
      "\n",
      "Report 1\n",
      "\n",
      "              precision    recall  f1-score   support\n",
      "\n",
      "           0       1.00      1.00      1.00        69\n",
      "           1       1.00      1.00      1.00        91\n",
      "\n",
      "    accuracy                           1.00       160\n",
      "   macro avg       1.00      1.00      1.00       160\n",
      "weighted avg       1.00      1.00      1.00       160\n",
      "\n",
      "\n",
      "Report 2\n",
      "\n",
      "              precision    recall  f1-score   support\n",
      "\n",
      "           0       1.00      1.00      1.00        69\n",
      "           1       1.00      1.00      1.00        91\n",
      "\n",
      "    accuracy                           1.00       160\n",
      "   macro avg       1.00      1.00      1.00       160\n",
      "weighted avg       1.00      1.00      1.00       160\n",
      "\n"
     ]
    }
   ],
   "source": [
    "from sklearn.svm import SVC\n",
    "\n",
    "rbf1 = SVC(kernel='rbf', C=1, gamma=0.1)\n",
    "rbf2 = SVC(kernel='rbf', C=100.0, gamma=10)\n",
    "\n",
    "rbf1.fit(X_train, y_train)\n",
    "rbf2.fit(X_train, y_train)\n",
    "\n",
    "y_pred_1 = rbf1.predict(X_test)\n",
    "y_pred_2 = rbf2.predict(X_test)\n",
    "\n",
    "from sklearn.metrics import classification_report\n",
    "print('\\nReport 1\\n')\n",
    "print(classification_report(y_test, y_pred_1))\n",
    "\n",
    "print('\\nReport 2\\n')\n",
    "print(classification_report(y_test, y_pred_2))"
   ]
  },
  {
   "cell_type": "markdown",
   "metadata": {},
   "source": [
    "# 2e."
   ]
  },
  {
   "cell_type": "markdown",
   "metadata": {},
   "source": [
    "![alt text](image-3.png)"
   ]
  },
  {
   "cell_type": "markdown",
   "metadata": {},
   "source": [
    "![alt text](image-2.png)"
   ]
  },
  {
   "cell_type": "markdown",
   "metadata": {},
   "source": [
    "# 2f. \n",
    "Best Model : \n",
    "\n",
    "The RBF Kernel models (both tuning types) performed significantly better than the Linear Kernel models. They achieved 100% accuracy, precision, recall, and F1-score across both classes, which indicates that the RBF Kernel was highly effective in classifying the data correctly.\n",
    "This suggests that the RBF Kernel is capable of capturing the complex patterns in the dataset more effectively than the Linear Kernel. RBF, being a non-linear kernel, is better suited to data that is not linearly separable, which seems to be the case here.\n",
    "\n",
    "Worst Model: \n",
    "\n",
    "The Linear Kernel models (both tuning types) performed poorly, with an accuracy of only 43%. The model had a recall of 1.0 for Class 0, meaning it correctly identified all instances of Class 0, but a recall of 0.0 for Class 1, failing to correctly identify any instances of Class 1. This imbalance indicates that the Linear Kernel could not handle the complexity of the data distribution.\n",
    "Linear Kernel models are best suited for linearly separable data. The low performance here implies that the dataset likely has a non-linear decision boundary, making the Linear Kernel unsuitable.\n",
    "\n",
    "However, the RBF Kernel is the best model for this dataset because it achieves perfect classification results, likely due to its ability to handle non-linear data. The Linear Kernel is the worst model in this case, as it struggles to classify one of the classes entirely, leading to low overall performance.\n"
   ]
  }
 ],
 "metadata": {
  "kernelspec": {
   "display_name": "base",
   "language": "python",
   "name": "python3"
  },
  "language_info": {
   "codemirror_mode": {
    "name": "ipython",
    "version": 3
   },
   "file_extension": ".py",
   "mimetype": "text/x-python",
   "name": "python",
   "nbconvert_exporter": "python",
   "pygments_lexer": "ipython3",
   "version": "3.9.13"
  }
 },
 "nbformat": 4,
 "nbformat_minor": 2
}
